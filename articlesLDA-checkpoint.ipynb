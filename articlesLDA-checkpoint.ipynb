{
 "cells": [
  {
   "cell_type": "code",
   "execution_count": 3,
   "metadata": {},
   "outputs": [],
   "source": [
    "import pymorphy2\n",
    "import string\n",
    "import re\n",
    "import gensim\n",
    "import numpy as np\n",
    "import collections\n",
    "from scipy.spatial import distance\n",
    "morph = pymorphy2.MorphAnalyzer()\n",
    "regex = re.compile('[%s]' % re.escape(string.punctuation))\n",
    "def test_re(s): \n",
    "    return regex.sub('', s)\n",
    "def preposition_text_for_lda(texts):\n",
    "    stop=open('stop.txt')\n",
    "    stop_words=[]\n",
    "    for line in stop:\n",
    "        stop_words.append(line)\n",
    "    for i in range(0,len(stop_words)):\n",
    "        stop_words[i]=stop_words[i][:-1]\n",
    "    # specific regular expresion for this texts \n",
    "    texts=[re.split( r' [\\w\\.\\&\\?!,_\\-#)(:;*%$№\"\\@]*Добавить в' ,texts[i])[0].replace(\"\\n\",\"\") for i in range(0,len(texts))]   \n",
    "    # remove punctuation\n",
    "    texts=[test_re(line) for line in texts]\n",
    "    texts=[t.lower() for t in texts]\n",
    "    # remove stop words\n",
    "    texts = [[word for word in document.split() if word not in stop_words] for document in texts]\n",
    "    texts = [[word.replace('\\xad','') for word in document] for document in texts]\n",
    "    texts=[[word for word in document if len(word)>=3]for document in texts]\n",
    "    for i in range(0,len(texts)):\n",
    "        for j in range(0,len(texts[i])):\n",
    "            texts[i][j] =  morph.parse(texts[i][j])[0].normal_form\n",
    "    counter = collections.Counter()\n",
    "    for t in texts:\n",
    "        for r in t:\n",
    "            counter[r]+=1\n",
    "    limit = len(texts)/5\n",
    "    too_common = [w for w in counter if counter[w] > limit]\n",
    "    too_common=set(too_common)\n",
    "    texts = [[word for word in document if word not in too_common] for document in texts]\n",
    "    return texts\n",
    "def LDA_with_preposition(file_name):\n",
    "    my_r=[]\n",
    "    import json\n",
    "    with open(file_name,'r') as f:\n",
    "        for line in f:\n",
    "            art=json.loads(line)\n",
    "            my_r.append(art)\n",
    "        texts = preposition_text_for_lda(my_r)\n",
    "        dictionary = gensim.corpora.Dictionary(texts)\n",
    "        corpus = [dictionary.doc2bow(text) for text in texts]\n",
    "        #lda = gensim.models.ldamodel.LdaModel(corpus=corpus, id2word=dictionary, num_topics=10, update_every=1, chunksize=1, passes=1)\n",
    "        lda = gensim.models.ldamodel.LdaModel(corpus=corpus, id2word=dictionary, num_topics=10)\n",
    "        topicsbook = np.zeros((len(corpus), lda.num_topics))\n",
    "        for di,doc in enumerate(corpus):\n",
    "            doc_top = lda[doc]\n",
    "            for ti,tv in doc_top:\n",
    "                  topicsbook[di,ti] += tv\n",
    "        weights = topicsbook.sum(0)\n",
    "        distances = distance.squareform(distance.pdist(topicsbook))\n",
    "        large = distances.max() + 1\n",
    "        for i in range(len(distances)):\n",
    "              distances[i, i] = large\n",
    "    return (lda,weights,distances)"
   ]
  },
  {
   "cell_type": "code",
   "execution_count": 2,
   "metadata": {},
   "outputs": [
    {
     "ename": "SyntaxError",
     "evalue": "(unicode error) 'unicodeescape' codec can't decode bytes in position 2-3: truncated \\UXXXXXXXX escape (<ipython-input-2-52d62bdc1959>, line 1)",
     "output_type": "error",
     "traceback": [
      "\u001b[1;36m  File \u001b[1;32m\"<ipython-input-2-52d62bdc1959>\"\u001b[1;36m, line \u001b[1;32m1\u001b[0m\n\u001b[1;33m    lda,weights,distances = LDA_with_preposition(\"C:\\Users\\NAST\\Desktop\\society.jsonl\")\u001b[0m\n\u001b[1;37m                                                ^\u001b[0m\n\u001b[1;31mSyntaxError\u001b[0m\u001b[1;31m:\u001b[0m (unicode error) 'unicodeescape' codec can't decode bytes in position 2-3: truncated \\UXXXXXXXX escape\n"
     ]
    }
   ],
   "source": [
    "lda,weights,distances = LDA_with_preposition(\"C:\\Users\\NAST\\Desktop\\society.jsonl\")"
   ]
  },
  {
   "cell_type": "code",
   "execution_count": 5,
   "metadata": {},
   "outputs": [],
   "source": [
    "from wordcloud import WordCloud\n",
    "for i in range(0,10):\n",
    "    a=lda.show_topic(i,topn=30)\n",
    "    wordcloud = WordCloud(\n",
    "                          relative_scaling = 1.0).generate_from_frequencies(dict(a))\n",
    "    wordcloud.to_file('society'+str(i)+'.png')"
   ]
  },
  {
   "cell_type": "code",
   "execution_count": null,
   "metadata": {},
   "outputs": [],
   "source": []
  }
 ],
 "metadata": {
  "kernelspec": {
   "display_name": "Python 3",
   "language": "python",
   "name": "python3"
  },
  "language_info": {
   "codemirror_mode": {
    "name": "ipython",
    "version": 3
   },
   "file_extension": ".py",
   "mimetype": "text/x-python",
   "name": "python",
   "nbconvert_exporter": "python",
   "pygments_lexer": "ipython3",
   "version": "3.7.6"
  }
 },
 "nbformat": 4,
 "nbformat_minor": 4
}
